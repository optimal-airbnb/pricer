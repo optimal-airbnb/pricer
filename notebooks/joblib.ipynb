{
  "nbformat": 4,
  "nbformat_minor": 0,
  "metadata": {
    "colab": {
      "name": "joblib.ipynb",
      "provenance": [],
      "collapsed_sections": []
    },
    "kernelspec": {
      "name": "python3",
      "display_name": "Python 3"
    }
  },
  "cells": [
    {
      "cell_type": "code",
      "metadata": {
        "id": "CNv3FXbhj5NQ",
        "colab_type": "code",
        "colab": {}
      },
      "source": [
        "from sklearn.externals import joblib\n",
        "from joblib import dump, load\n",
        "\n",
        "dump(rf_reg, 'rf_reg.joblib')"
      ],
      "execution_count": null,
      "outputs": []
    }
  ]
}